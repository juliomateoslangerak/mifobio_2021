{
 "cells": [
  {
   "cell_type": "markdown",
   "metadata": {},
   "source": [
    "# Co-localization Analysis on Drosophila spreads"
   ]
  },
  {
   "cell_type": "markdown",
   "metadata": {},
   "source": [
    "This notebook analyses co-localization on Drosophila salivary glands spreads"
   ]
  },
  {
   "cell_type": "markdown",
   "metadata": {},
   "source": [
    "### Import Packages"
   ]
  },
  {
   "cell_type": "code",
   "execution_count": 8,
   "metadata": {},
   "outputs": [],
   "source": [
    "# %tb\n",
    "\n",
    "# Import Cell Profiler Dependencies\n",
    "import cellprofiler\n",
    "import cellprofiler_core.preferences as cpprefs\n",
    "import cellprofiler.modules as cpm\n",
    "import cellprofiler_core.pipeline as cpp\n",
    "cpprefs.set_headless()\n",
    "\n",
    "# Inject Image module used to inject OMERO image planes into Cell Profiler Pipeline\n",
    "from cellprofiler_core.modules.injectimage import InjectImage\n",
    "\n",
    "# Import OMERO Python BlitzGateway\n",
    "from omero.gateway import BlitzGateway\n",
    "\n",
    "# Import Python System Packages\n",
    "import os\n",
    "import tempfile\n",
    "import pandas\n",
    "import warnings\n",
    "\n",
    "from getpass import getpass"
   ]
  },
  {
   "cell_type": "markdown",
   "metadata": {},
   "source": [
    "### Set Cell Output Directory"
   ]
  },
  {
   "cell_type": "code",
   "execution_count": 9,
   "metadata": {},
   "outputs": [],
   "source": [
    "new_output_directory = os.path.normcase(tempfile.mkdtemp())\n",
    "cpprefs.set_default_output_directory(new_output_directory)"
   ]
  },
  {
   "cell_type": "markdown",
   "metadata": {},
   "source": [
    "### OMERO Credentials and dataset to analyze"
   ]
  },
  {
   "cell_type": "code",
   "execution_count": 10,
   "metadata": {},
   "outputs": [
    {
     "name": "stdout",
     "output_type": "stream",
     "text": [
      "host: \n",
      "OMERO Username: mateos\n",
      "OMERO Password: ········\n",
      "OMERO Group: OMERO_training\n",
      "Dataset id: 15657\n",
      "Dataset Name:  Annotations and searching\n"
     ]
    }
   ],
   "source": [
    "HOST = input(\"host: \") or 'omero.mri.cnrs.fr'\n",
    "conn = BlitzGateway(input(\"OMERO Username: \"),\n",
    "                    getpass(\"OMERO Password: \"),\n",
    "                    group=input(\"OMERO Group: \"),\n",
    "                    host=HOST)\n",
    "conn.connect()\n",
    "\n",
    "dataset_id = input(\"Dataset id: \")\n",
    "dataset = conn.getObject(\"Dataset\", dataset_id)\n",
    "print('Dataset Name: ',dataset.getName())"
   ]
  },
  {
   "cell_type": "markdown",
   "metadata": {},
   "source": [
    "### Load a cellprofiler pipeline attached to the dataset\n",
    "Be careful, this script only takes the first pipeline that is attached to a dataset, so best keep only one pipeline in the dataset"
   ]
  },
  {
   "cell_type": "code",
   "execution_count": 13,
   "metadata": {},
   "outputs": [
    {
     "name": "stdout",
     "output_type": "stream",
     "text": [
      "Remove module:  Images\n",
      "Remove module:  Metadata\n",
      "Remove module:  NamesAndTypes\n",
      "Remove module:  Groups\n",
      "Remove module:  OverlayOutlines\n",
      "Remove module:  SaveImages\n",
      "Remove module:  SaveImages\n",
      "Remove module:  SaveImages\n",
      "Pipeline modules:\n",
      "1 RescaleIntensity\n",
      "2 RescaleIntensity\n",
      "3 CorrectIlluminationCalculate\n",
      "4 CorrectIlluminationCalculate\n",
      "5 CorrectIlluminationApply\n",
      "6 IdentifyPrimaryObjects\n",
      "7 MaskImage\n",
      "8 IdentifyPrimaryObjects\n",
      "9 IdentifyPrimaryObjects\n",
      "10 MeasureColocalization\n",
      "11 ExportToSpreadsheet\n"
     ]
    }
   ],
   "source": [
    "anns = dataset.listAnnotations()\n",
    "for ann in anns:\n",
    "    if type(ann).__name__ == 'FileAnnotationWrapper' and ann.getFileName().endswith('.cppipe'):\n",
    "        pipe_path = os.path.join(new_output_directory, ann.getFileName())\n",
    "        with open(str(pipe_path), 'wb') as f:\n",
    "            for chunk in ann.getFileInChunks():\n",
    "                f.write(chunk)\n",
    "\n",
    "pipeline = cpp.Pipeline()\n",
    "pipeline.load(str(pipe_path))\n",
    "\n",
    "# Remove first 4 modules: Images, Metadata, NamesAndTypes, Groups...\n",
    "# (replaced by InjectImage module below)\n",
    "for i in range(4):\n",
    "    print('Remove module: ', pipeline.modules()[0].module_name)\n",
    "    pipeline.remove_module(1)\n",
    "for i in range(4):\n",
    "    print('Remove module: ', pipeline.modules()[9].module_name)\n",
    "    pipeline.remove_module(10)\n",
    "\n",
    "print('Pipeline modules:')\n",
    "for module in pipeline.modules():\n",
    "    print(module.module_num, module.module_name)"
   ]
  },
  {
   "cell_type": "markdown",
   "metadata": {},
   "source": [
    "### Run Cell Profiler Pipeline on the OMERO Images"
   ]
  },
  {
   "cell_type": "code",
   "execution_count": 14,
   "metadata": {},
   "outputs": [],
   "source": [
    "warnings.filterwarnings('ignore')\n",
    "\n",
    "image_df = pandas.DataFrame()\n",
    "\n",
    "for image in dataset.listChildren():\n",
    "\n",
    "    pixels = image.getPrimaryPixels()\n",
    "    size_c = image.getSizeC()\n",
    "    # For each Image in OMERO, we copy pipeline and inject image modules\n",
    "    pipeline_copy = pipeline.copy()\n",
    "\n",
    "    channel_names = {'HA': 1,\n",
    "                     'Pc': 2,\n",
    "                     }\n",
    "\n",
    "    for image_name, channel in channel_names.items():\n",
    "\n",
    "        plane = pixels.getPlane(0, channel, 0)\n",
    "        # image_name = image.getName()\n",
    "\n",
    "        inject_image_module = InjectImage(image_name, plane)\n",
    "        inject_image_module.set_module_num(1)\n",
    "        pipeline_copy.add_module(inject_image_module)\n",
    "\n",
    "    m = pipeline_copy.run()\n",
    "\n",
    "    # Results obtained as CSV from Cell Profiler\n",
    "    image_csv = pandas.read_csv(new_output_directory + '/Image.csv')\n",
    "    image_csv['Image Name'] = image.getName()\n",
    "    # image_csv.ImageId = image.getId()\n",
    "    image_df = image_df.append(image_csv)"
   ]
  },
  {
   "cell_type": "markdown",
   "metadata": {},
   "source": [
    "## Results obtained as CSV from Cell Profiler"
   ]
  },
  {
   "cell_type": "markdown",
   "metadata": {},
   "source": [
    "### Images (Summary)"
   ]
  },
  {
   "cell_type": "code",
   "execution_count": 15,
   "metadata": {},
   "outputs": [
    {
     "data": {
      "text/html": [
       "<div>\n",
       "<style scoped>\n",
       "    .dataframe tbody tr th:only-of-type {\n",
       "        vertical-align: middle;\n",
       "    }\n",
       "\n",
       "    .dataframe tbody tr th {\n",
       "        vertical-align: top;\n",
       "    }\n",
       "\n",
       "    .dataframe thead th {\n",
       "        text-align: right;\n",
       "    }\n",
       "</style>\n",
       "<table border=\"1\" class=\"dataframe\">\n",
       "  <thead>\n",
       "    <tr style=\"text-align: right;\">\n",
       "      <th></th>\n",
       "      <th>Correlation_Costes_CorrHA_CorrPc</th>\n",
       "      <th>Correlation_Costes_CorrPc_CorrHA</th>\n",
       "      <th>Correlation_Manders_CorrHA_CorrPc</th>\n",
       "      <th>Correlation_Manders_CorrPc_CorrHA</th>\n",
       "      <th>Count_Mask_nonStrong_Pc</th>\n",
       "      <th>Count_PcBands_strong</th>\n",
       "      <th>Count_PcBands_weak</th>\n",
       "      <th>ExecutionTime_01InjectImage</th>\n",
       "      <th>ExecutionTime_02InjectImage</th>\n",
       "      <th>ExecutionTime_03RescaleIntensity</th>\n",
       "      <th>...</th>\n",
       "      <th>Threshold_OrigThreshold_Mask_nonStrong_Pc</th>\n",
       "      <th>Threshold_OrigThreshold_PcBands_strong</th>\n",
       "      <th>Threshold_OrigThreshold_PcBands_weak</th>\n",
       "      <th>Threshold_SumOfEntropies_Mask_nonStrong_Pc</th>\n",
       "      <th>Threshold_SumOfEntropies_PcBands_strong</th>\n",
       "      <th>Threshold_SumOfEntropies_PcBands_weak</th>\n",
       "      <th>Threshold_WeightedVariance_Mask_nonStrong_Pc</th>\n",
       "      <th>Threshold_WeightedVariance_PcBands_strong</th>\n",
       "      <th>Threshold_WeightedVariance_PcBands_weak</th>\n",
       "      <th>Image Name</th>\n",
       "    </tr>\n",
       "  </thead>\n",
       "  <tbody>\n",
       "    <tr>\n",
       "      <th>0</th>\n",
       "      <td>0.348671</td>\n",
       "      <td>0.632989</td>\n",
       "      <td>0.024235</td>\n",
       "      <td>0.750707</td>\n",
       "      <td>1.0</td>\n",
       "      <td>27.0</td>\n",
       "      <td>246.0</td>\n",
       "      <td>0.00</td>\n",
       "      <td>0.0</td>\n",
       "      <td>0.01</td>\n",
       "      <td>...</td>\n",
       "      <td>0.0</td>\n",
       "      <td>0.4</td>\n",
       "      <td>0.1</td>\n",
       "      <td>0.0</td>\n",
       "      <td>-9.771072</td>\n",
       "      <td>-12.394296</td>\n",
       "      <td>1.734106</td>\n",
       "      <td>1.480816</td>\n",
       "      <td>1.539987</td>\n",
       "      <td>exp-20210305_sgs3-Gal4_UAS-neg_Pc-Red_Ha-Green...</td>\n",
       "    </tr>\n",
       "    <tr>\n",
       "      <th>0</th>\n",
       "      <td>0.074082</td>\n",
       "      <td>0.583960</td>\n",
       "      <td>0.020302</td>\n",
       "      <td>0.911975</td>\n",
       "      <td>2.0</td>\n",
       "      <td>32.0</td>\n",
       "      <td>211.0</td>\n",
       "      <td>0.00</td>\n",
       "      <td>0.0</td>\n",
       "      <td>0.01</td>\n",
       "      <td>...</td>\n",
       "      <td>0.0</td>\n",
       "      <td>0.4</td>\n",
       "      <td>0.1</td>\n",
       "      <td>0.0</td>\n",
       "      <td>-10.270415</td>\n",
       "      <td>-12.400549</td>\n",
       "      <td>1.665635</td>\n",
       "      <td>1.465389</td>\n",
       "      <td>1.478277</td>\n",
       "      <td>exp-20210305_sgs3-Gal4_UAS-neg_Pc-Red_Ha-Green...</td>\n",
       "    </tr>\n",
       "    <tr>\n",
       "      <th>0</th>\n",
       "      <td>1.000000</td>\n",
       "      <td>0.870056</td>\n",
       "      <td>0.023082</td>\n",
       "      <td>0.404146</td>\n",
       "      <td>1.0</td>\n",
       "      <td>28.0</td>\n",
       "      <td>224.0</td>\n",
       "      <td>0.01</td>\n",
       "      <td>0.0</td>\n",
       "      <td>0.01</td>\n",
       "      <td>...</td>\n",
       "      <td>0.0</td>\n",
       "      <td>0.4</td>\n",
       "      <td>0.1</td>\n",
       "      <td>0.0</td>\n",
       "      <td>-10.684191</td>\n",
       "      <td>-12.384959</td>\n",
       "      <td>1.794151</td>\n",
       "      <td>1.444759</td>\n",
       "      <td>1.633165</td>\n",
       "      <td>exp-20210305_sgs3-Gal4_UAS-neg_Pc-Red_Ha-Green...</td>\n",
       "    </tr>\n",
       "    <tr>\n",
       "      <th>0</th>\n",
       "      <td>1.000000</td>\n",
       "      <td>0.849891</td>\n",
       "      <td>0.025395</td>\n",
       "      <td>0.595204</td>\n",
       "      <td>1.0</td>\n",
       "      <td>32.0</td>\n",
       "      <td>367.0</td>\n",
       "      <td>0.01</td>\n",
       "      <td>0.0</td>\n",
       "      <td>0.01</td>\n",
       "      <td>...</td>\n",
       "      <td>0.0</td>\n",
       "      <td>0.4</td>\n",
       "      <td>0.1</td>\n",
       "      <td>0.0</td>\n",
       "      <td>-9.731390</td>\n",
       "      <td>-12.386205</td>\n",
       "      <td>1.918251</td>\n",
       "      <td>1.650731</td>\n",
       "      <td>1.696826</td>\n",
       "      <td>exp-20210305_sgs3-Gal4_UAS-neg_Pc-Red_Ha-Green...</td>\n",
       "    </tr>\n",
       "    <tr>\n",
       "      <th>0</th>\n",
       "      <td>1.000000</td>\n",
       "      <td>0.857828</td>\n",
       "      <td>0.030059</td>\n",
       "      <td>0.655601</td>\n",
       "      <td>1.0</td>\n",
       "      <td>48.0</td>\n",
       "      <td>301.0</td>\n",
       "      <td>0.00</td>\n",
       "      <td>0.0</td>\n",
       "      <td>0.01</td>\n",
       "      <td>...</td>\n",
       "      <td>0.0</td>\n",
       "      <td>0.4</td>\n",
       "      <td>0.1</td>\n",
       "      <td>0.0</td>\n",
       "      <td>-10.509497</td>\n",
       "      <td>-12.468774</td>\n",
       "      <td>1.842413</td>\n",
       "      <td>1.636007</td>\n",
       "      <td>1.580142</td>\n",
       "      <td>exp-20210305_sgs3-Gal4_UAS-neg_Pc-Red_Ha-Green...</td>\n",
       "    </tr>\n",
       "  </tbody>\n",
       "</table>\n",
       "<p>5 rows × 49 columns</p>\n",
       "</div>"
      ],
      "text/plain": [
       "   Correlation_Costes_CorrHA_CorrPc  Correlation_Costes_CorrPc_CorrHA  \\\n",
       "0                          0.348671                          0.632989   \n",
       "0                          0.074082                          0.583960   \n",
       "0                          1.000000                          0.870056   \n",
       "0                          1.000000                          0.849891   \n",
       "0                          1.000000                          0.857828   \n",
       "\n",
       "   Correlation_Manders_CorrHA_CorrPc  Correlation_Manders_CorrPc_CorrHA  \\\n",
       "0                           0.024235                           0.750707   \n",
       "0                           0.020302                           0.911975   \n",
       "0                           0.023082                           0.404146   \n",
       "0                           0.025395                           0.595204   \n",
       "0                           0.030059                           0.655601   \n",
       "\n",
       "   Count_Mask_nonStrong_Pc  Count_PcBands_strong  Count_PcBands_weak  \\\n",
       "0                      1.0                  27.0               246.0   \n",
       "0                      2.0                  32.0               211.0   \n",
       "0                      1.0                  28.0               224.0   \n",
       "0                      1.0                  32.0               367.0   \n",
       "0                      1.0                  48.0               301.0   \n",
       "\n",
       "   ExecutionTime_01InjectImage  ExecutionTime_02InjectImage  \\\n",
       "0                         0.00                          0.0   \n",
       "0                         0.00                          0.0   \n",
       "0                         0.01                          0.0   \n",
       "0                         0.01                          0.0   \n",
       "0                         0.00                          0.0   \n",
       "\n",
       "   ExecutionTime_03RescaleIntensity  ...  \\\n",
       "0                              0.01  ...   \n",
       "0                              0.01  ...   \n",
       "0                              0.01  ...   \n",
       "0                              0.01  ...   \n",
       "0                              0.01  ...   \n",
       "\n",
       "   Threshold_OrigThreshold_Mask_nonStrong_Pc  \\\n",
       "0                                        0.0   \n",
       "0                                        0.0   \n",
       "0                                        0.0   \n",
       "0                                        0.0   \n",
       "0                                        0.0   \n",
       "\n",
       "   Threshold_OrigThreshold_PcBands_strong  \\\n",
       "0                                     0.4   \n",
       "0                                     0.4   \n",
       "0                                     0.4   \n",
       "0                                     0.4   \n",
       "0                                     0.4   \n",
       "\n",
       "   Threshold_OrigThreshold_PcBands_weak  \\\n",
       "0                                   0.1   \n",
       "0                                   0.1   \n",
       "0                                   0.1   \n",
       "0                                   0.1   \n",
       "0                                   0.1   \n",
       "\n",
       "   Threshold_SumOfEntropies_Mask_nonStrong_Pc  \\\n",
       "0                                         0.0   \n",
       "0                                         0.0   \n",
       "0                                         0.0   \n",
       "0                                         0.0   \n",
       "0                                         0.0   \n",
       "\n",
       "   Threshold_SumOfEntropies_PcBands_strong  \\\n",
       "0                                -9.771072   \n",
       "0                               -10.270415   \n",
       "0                               -10.684191   \n",
       "0                                -9.731390   \n",
       "0                               -10.509497   \n",
       "\n",
       "   Threshold_SumOfEntropies_PcBands_weak  \\\n",
       "0                             -12.394296   \n",
       "0                             -12.400549   \n",
       "0                             -12.384959   \n",
       "0                             -12.386205   \n",
       "0                             -12.468774   \n",
       "\n",
       "   Threshold_WeightedVariance_Mask_nonStrong_Pc  \\\n",
       "0                                      1.734106   \n",
       "0                                      1.665635   \n",
       "0                                      1.794151   \n",
       "0                                      1.918251   \n",
       "0                                      1.842413   \n",
       "\n",
       "   Threshold_WeightedVariance_PcBands_strong  \\\n",
       "0                                   1.480816   \n",
       "0                                   1.465389   \n",
       "0                                   1.444759   \n",
       "0                                   1.650731   \n",
       "0                                   1.636007   \n",
       "\n",
       "   Threshold_WeightedVariance_PcBands_weak  \\\n",
       "0                                 1.539987   \n",
       "0                                 1.478277   \n",
       "0                                 1.633165   \n",
       "0                                 1.696826   \n",
       "0                                 1.580142   \n",
       "\n",
       "                                          Image Name  \n",
       "0  exp-20210305_sgs3-Gal4_UAS-neg_Pc-Red_Ha-Green...  \n",
       "0  exp-20210305_sgs3-Gal4_UAS-neg_Pc-Red_Ha-Green...  \n",
       "0  exp-20210305_sgs3-Gal4_UAS-neg_Pc-Red_Ha-Green...  \n",
       "0  exp-20210305_sgs3-Gal4_UAS-neg_Pc-Red_Ha-Green...  \n",
       "0  exp-20210305_sgs3-Gal4_UAS-neg_Pc-Red_Ha-Green...  \n",
       "\n",
       "[5 rows x 49 columns]"
      ]
     },
     "execution_count": 15,
     "metadata": {},
     "output_type": "execute_result"
    }
   ],
   "source": [
    "image_df.head()"
   ]
  },
  {
   "cell_type": "markdown",
   "metadata": {},
   "source": [
    "### Push Results back to OMERO"
   ]
  },
  {
   "cell_type": "code",
   "execution_count": 16,
   "metadata": {},
   "outputs": [
    {
     "name": "stdout",
     "output_type": "stream",
     "text": [
      "\n",
      "Creating an OriginalFile and FileAnnotation\n",
      "Attaching FileAnnotation to Dataset:  File ID: 98408 , Image.csv Size: 16787\n"
     ]
    },
    {
     "data": {
      "text/plain": [
       "<FileAnnotationWrapper id=98408>"
      ]
     },
     "execution_count": 16,
     "metadata": {},
     "output_type": "execute_result"
    }
   ],
   "source": [
    "file_to_upload = str(os.path.join(new_output_directory, 'Image.csv'))\n",
    "image_df.to_csv(file_to_upload, index=False)\n",
    "\n",
    "# create the original file and file annotation (uploads the file etc.)\n",
    "namespace = \"cellprofiler.analysis\"\n",
    "print(\"\\nCreating an OriginalFile and FileAnnotation\")\n",
    "file_ann = conn.createFileAnnfromLocalFile(file_to_upload, mimetype=\"text/plain\", ns=namespace, desc=None)\n",
    "print(\"Attaching FileAnnotation to Dataset: \", \"File ID:\", file_ann.getId(),\n",
    "    \",\", file_ann.getFile().getName(), \"Size:\", file_ann.getFile().getSize())\n",
    "dataset.linkAnnotation(file_ann)"
   ]
  },
  {
   "cell_type": "markdown",
   "metadata": {},
   "source": [
    "#### Close the connection to the OMERO server"
   ]
  },
  {
   "cell_type": "code",
   "execution_count": 17,
   "metadata": {
    "pycharm": {
     "name": "#%%\n"
    }
   },
   "outputs": [
    {
     "name": "stderr",
     "output_type": "stream",
     "text": [
      "WARNING:omero.client:Cannot get session service for killSession. Using closeSession\n"
     ]
    }
   ],
   "source": [
    "conn.close()"
   ]
  },
  {
   "cell_type": "code",
   "execution_count": null,
   "metadata": {},
   "outputs": [],
   "source": []
  }
 ],
 "metadata": {
  "kernelspec": {
   "display_name": "Python 3",
   "language": "python",
   "name": "python3"
  },
  "language_info": {
   "codemirror_mode": {
    "name": "ipython",
    "version": 3
   },
   "file_extension": ".py",
   "mimetype": "text/x-python",
   "name": "python",
   "nbconvert_exporter": "python",
   "pygments_lexer": "ipython3",
   "version": "3.8.8"
  }
 },
 "nbformat": 4,
 "nbformat_minor": 2
}