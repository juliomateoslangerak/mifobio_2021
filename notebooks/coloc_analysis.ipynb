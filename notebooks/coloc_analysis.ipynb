{
 "cells": [
  {
   "cell_type": "markdown",
   "metadata": {},
   "source": [
    "# Co-localization Analysis on Drosophila spreads\n",
    "\n",
    "This notebook analyses co-localization on Drosophila salivary glands spreads\n",
    "\n",
    "### Import Packages"
   ]
  },
  {
   "cell_type": "code",
   "execution_count": 1,
   "metadata": {},
   "outputs": [],
   "source": [
    "import warnings\n",
    "\n",
    "import numpy as np\n",
    "\n",
    "warnings.filterwarnings('ignore')\n",
    "\n",
    "# Import Cell Profiler Dependencies\n",
    "import cellprofiler_core.preferences as cpprefs\n",
    "import cellprofiler_core.pipeline as cpp\n",
    "cpprefs.set_headless()\n",
    "from cellprofiler_core.modules.injectimage import InjectImage\n",
    "\n",
    "# import ezomero\n",
    "import ezomero\n",
    "\n",
    "# Import Python System Packages\n",
    "import os\n",
    "import tempfile\n",
    "import pandas\n",
    "from getpass import getpass"
   ]
  },
  {
   "cell_type": "markdown",
   "metadata": {},
   "source": [
    "### Set Cell Output Directory"
   ]
  },
  {
   "cell_type": "code",
   "execution_count": 2,
   "metadata": {},
   "outputs": [],
   "source": [
    "new_output_directory = os.path.normcase(tempfile.mkdtemp())\n",
    "cpprefs.set_default_output_directory(new_output_directory)"
   ]
  },
  {
   "cell_type": "markdown",
   "metadata": {},
   "source": [
    "### OMERO Credentials and dataset to analyze"
   ]
  },
  {
   "cell_type": "code",
   "execution_count": 18,
   "metadata": {},
   "outputs": [
    {
     "name": "stdout",
     "output_type": "stream",
     "text": [
      "Provide the credentials. If you are connected as a guest in read-only mode use 'public' as login and password\n",
      "Successful connection: True\n"
     ]
    }
   ],
   "source": [
    "print(\"Provide the credentials. If you are connected as a guest in read-only mode use 'public' as login and password\")\n",
    "conn = ezomero.connect(user=input(\"OMERO Username: \"),\n",
    "                       password=getpass(\"OMERO Password: \"),\n",
    "                       group=input(\"OMERO Group (leave empty if guest user): \") or None,\n",
    "                       host='bioimage.france-bioinformatique.fr',\n",
    "                       port=4072,\n",
    "                       secure=True)\n",
    "\n",
    "print(f\"Successful connection: {conn.isConnected()}\")"
   ]
  },
  {
   "cell_type": "markdown",
   "metadata": {
    "pycharm": {
     "name": "#%% md\n"
    }
   },
   "source": [
    "If you saw a \"True\" here, congratualtions, you are connected to the OMERO server\n",
    "\n",
    "### Load a cellprofiler pipeline as part of the shared work flow\n",
    "We are loading the Cellprofiler analysis pipe to use it within this notebook.\n",
    "Instead of using CellProfiler's interface to load the images we have to remove the first 4 modules of the pipeline that are in charge of loading the images"
   ]
  },
  {
   "cell_type": "code",
   "execution_count": 5,
   "metadata": {},
   "outputs": [
    {
     "name": "stdout",
     "output_type": "stream",
     "text": [
      "Remove module:  Images\n",
      "Remove module:  Metadata\n",
      "Remove module:  NamesAndTypes\n",
      "Remove module:  Groups\n",
      "Remove module:  OverlayOutlines\n",
      "Remove module:  SaveImages\n",
      "Remove module:  SaveImages\n",
      "Remove module:  SaveImages\n",
      "Pipeline modules:\n",
      "1 RescaleIntensity\n",
      "2 RescaleIntensity\n",
      "3 CorrectIlluminationCalculate\n",
      "4 CorrectIlluminationCalculate\n",
      "5 CorrectIlluminationApply\n",
      "6 IdentifyPrimaryObjects\n",
      "7 MaskImage\n",
      "8 IdentifyPrimaryObjects\n",
      "9 IdentifyPrimaryObjects\n",
      "10 MeasureColocalization\n",
      "11 ExportToSpreadsheet\n"
     ]
    }
   ],
   "source": [
    "pipeline = cpp.Pipeline()\n",
    "pipeline.load(\"../cell_profiler_pipelines/Coloc_v5.cppipe\")\n",
    "\n",
    "# Remove first 4 modules: Images, Metadata, NamesAndTypes, Groups...\n",
    "# (replaced by InjectImage module below)\n",
    "for i in range(4):\n",
    "    print('Remove module: ', pipeline.modules()[0].module_name)\n",
    "    pipeline.remove_module(1)\n",
    "for i in range(4):\n",
    "    print('Remove module: ', pipeline.modules()[9].module_name)\n",
    "    pipeline.remove_module(10)\n",
    "\n",
    "print('Pipeline modules:')\n",
    "for module in pipeline.modules():\n",
    "    print(module.module_num, module.module_name)"
   ]
  },
  {
   "cell_type": "markdown",
   "metadata": {},
   "source": [
    "### Run Cell Profiler Pipeline on the OMERO Images\n",
    "First we create a dataframe to store all the results."
   ]
  },
  {
   "cell_type": "code",
   "execution_count": 6,
   "outputs": [],
   "source": [
    "image_df = pandas.DataFrame()"
   ],
   "metadata": {
    "collapsed": false,
    "pycharm": {
     "name": "#%%\n"
    }
   }
  },
  {
   "cell_type": "markdown",
   "source": [
    "Now let's get a grasp of the Dataset to analize now. You need to provide the dataset ID to analyze"
   ],
   "metadata": {
    "collapsed": false
   }
  },
  {
   "cell_type": "code",
   "execution_count": 21,
   "outputs": [
    {
     "name": "stdout",
     "output_type": "stream",
     "text": [
      "Processing image: exp-20210305_sgs3-Gal4_UAS-Trr_Pc-Red_Ha-Green_DNA-DAPI-03-ApoTome RAW Convert-17.czi...\n",
      "Analysis done\n"
     ]
    }
   ],
   "source": [
    "channel_names = [\n",
    "    'HA',\n",
    "    'Pc',\n",
    "]\n",
    "\n",
    "\n",
    "dataset_id = int(input(\"Dataset id: \"))\n",
    "image_ids = ezomero.get_image_ids(conn, dataset=dataset_id, across_groups=False)\n",
    "\n",
    "for image_id in image_ids[:5]:\n",
    "\n",
    "    image, image_data = ezomero.get_image(conn, image_id)\n",
    "    print(f\"Processing image: {image.getName()}...\")\n",
    "    \n",
    "    # For each Image in OMERO, we copy pipeline and inject image modules\n",
    "    pipeline_copy = pipeline.copy()\n",
    "\n",
    "    for channel, channel_name in enumerate(channel_names):\n",
    "\n",
    "        inject_image_module = InjectImage(channel_name, np.squeeze(image_data[...,channel]))\n",
    "        inject_image_module.set_module_num(1)\n",
    "        pipeline_copy.add_module(inject_image_module)\n",
    "\n",
    "    m = pipeline_copy.run()\n",
    "    \n",
    "    print(\"Analysis done\")\n",
    "\n",
    "    # Results obtained as CSV from Cell Profiler\n",
    "    image_csv = pandas.read_csv(new_output_directory + '/Image.csv')\n",
    "    image_csv.insert(0, 'Image Name', image.getName())\n",
    "    image_csv.insert(0, 'Image ID', image.getId())\n",
    "    image_df = image_df.append(image_csv)\n",
    "    \n",
    "print(\"All images done\")"
   ],
   "metadata": {
    "collapsed": false,
    "pycharm": {
     "name": "#%%\n"
    }
   }
  },
  {
   "cell_type": "markdown",
   "metadata": {},
   "source": [
    "## Exploring the output\n",
    "The output is stored in memory as a pandas dataframe. Let's have a quick look at it."
   ]
  },
  {
   "cell_type": "code",
   "execution_count": 21,
   "metadata": {},
   "outputs": [
    {
     "data": {
      "text/plain": "   Correlation_Costes_CorrHA_CorrPc  Correlation_Costes_CorrPc_CorrHA  \\\n0                          0.932581                          0.812543   \n0                          0.937823                          0.284427   \n0                          0.600197                          0.137475   \n0                          0.940885                          0.662307   \n0                          0.693176                          0.193549   \n\n   Correlation_Manders_CorrHA_CorrPc  Correlation_Manders_CorrPc_CorrHA  \\\n0                           0.551168                           0.672991   \n0                           0.193049                           0.575878   \n0                           0.696986                           0.186556   \n0                           0.527255                           0.926744   \n0                           0.801309                           0.178604   \n\n   Count_Mask_nonStrong_Pc  Count_PcBands_strong  Count_PcBands_weak  \\\n0                      2.0                  30.0               196.0   \n0                      1.0                  22.0               283.0   \n0                      1.0                   0.0                 0.0   \n0                      1.0                  14.0               225.0   \n0                      1.0                   0.0                 0.0   \n\n   ExecutionTime_01InjectImage  ExecutionTime_02InjectImage  \\\n0                         0.00                         0.00   \n0                         0.02                         0.00   \n0                         0.02                         0.01   \n0                         0.01                         0.01   \n0                         0.00                         0.00   \n\n   ExecutionTime_03RescaleIntensity  ...  \\\n0                              0.02  ...   \n0                              0.02  ...   \n0                              0.02  ...   \n0                              0.03  ...   \n0                              0.03  ...   \n\n   Threshold_OrigThreshold_PcBands_strong  \\\n0                                     0.4   \n0                                     0.4   \n0                                     0.4   \n0                                     0.4   \n0                                     0.4   \n\n   Threshold_OrigThreshold_PcBands_weak  \\\n0                                   0.1   \n0                                   0.1   \n0                                   0.1   \n0                                   0.1   \n0                                   0.1   \n\n   Threshold_SumOfEntropies_Mask_nonStrong_Pc  \\\n0                                         0.0   \n0                                         0.0   \n0                                         0.0   \n0                                         0.0   \n0                                         0.0   \n\n   Threshold_SumOfEntropies_PcBands_strong  \\\n0                               -10.910727   \n0                               -10.267540   \n0                                 0.000000   \n0                               -10.612316   \n0                                 0.000000   \n\n   Threshold_SumOfEntropies_PcBands_weak  \\\n0                             -12.295348   \n0                             -12.116251   \n0                               0.000000   \n0                             -11.857965   \n0                               0.000000   \n\n   Threshold_WeightedVariance_Mask_nonStrong_Pc  \\\n0                                      2.933796   \n0                                      1.507048   \n0                                      0.862746   \n0                                      1.430076   \n0                                      0.889652   \n\n   Threshold_WeightedVariance_PcBands_strong  \\\n0                                   2.671294   \n0                                   1.341739   \n0                                   0.862746   \n0                                   1.265770   \n0                                   0.889652   \n\n   Threshold_WeightedVariance_PcBands_weak  \\\n0                                 1.748441   \n0                                 1.368191   \n0                                 0.862746   \n0                                 1.113389   \n0                                 0.889652   \n\n                                          Image Name  Image ID  \n0  exp-20210305_sgs3-Gal4_UAS-Trr_Pc-Red_Ha-Green...        38  \n0  exp-20210305_sgs3-Gal4_UAS-Psc_Pc-Red_Ha-Green...        39  \n0  exp-20210305_sgs3-Gal4_UAS-neg_Pc-Red_Ha-Green...        40  \n0  exp-20210305_sgs3-Gal4_UAS-Psc_Pc-Red_Ha-Green...        41  \n0  exp-20210305_sgs3-Gal4_UAS-neg_Pc-Red_Ha-Green...        42  \n\n[5 rows x 50 columns]",
      "text/html": "<div>\n<style scoped>\n    .dataframe tbody tr th:only-of-type {\n        vertical-align: middle;\n    }\n\n    .dataframe tbody tr th {\n        vertical-align: top;\n    }\n\n    .dataframe thead th {\n        text-align: right;\n    }\n</style>\n<table border=\"1\" class=\"dataframe\">\n  <thead>\n    <tr style=\"text-align: right;\">\n      <th></th>\n      <th>Correlation_Costes_CorrHA_CorrPc</th>\n      <th>Correlation_Costes_CorrPc_CorrHA</th>\n      <th>Correlation_Manders_CorrHA_CorrPc</th>\n      <th>Correlation_Manders_CorrPc_CorrHA</th>\n      <th>Count_Mask_nonStrong_Pc</th>\n      <th>Count_PcBands_strong</th>\n      <th>Count_PcBands_weak</th>\n      <th>ExecutionTime_01InjectImage</th>\n      <th>ExecutionTime_02InjectImage</th>\n      <th>ExecutionTime_03RescaleIntensity</th>\n      <th>...</th>\n      <th>Threshold_OrigThreshold_PcBands_strong</th>\n      <th>Threshold_OrigThreshold_PcBands_weak</th>\n      <th>Threshold_SumOfEntropies_Mask_nonStrong_Pc</th>\n      <th>Threshold_SumOfEntropies_PcBands_strong</th>\n      <th>Threshold_SumOfEntropies_PcBands_weak</th>\n      <th>Threshold_WeightedVariance_Mask_nonStrong_Pc</th>\n      <th>Threshold_WeightedVariance_PcBands_strong</th>\n      <th>Threshold_WeightedVariance_PcBands_weak</th>\n      <th>Image Name</th>\n      <th>Image ID</th>\n    </tr>\n  </thead>\n  <tbody>\n    <tr>\n      <th>0</th>\n      <td>0.932581</td>\n      <td>0.812543</td>\n      <td>0.551168</td>\n      <td>0.672991</td>\n      <td>2.0</td>\n      <td>30.0</td>\n      <td>196.0</td>\n      <td>0.00</td>\n      <td>0.00</td>\n      <td>0.02</td>\n      <td>...</td>\n      <td>0.4</td>\n      <td>0.1</td>\n      <td>0.0</td>\n      <td>-10.910727</td>\n      <td>-12.295348</td>\n      <td>2.933796</td>\n      <td>2.671294</td>\n      <td>1.748441</td>\n      <td>exp-20210305_sgs3-Gal4_UAS-Trr_Pc-Red_Ha-Green...</td>\n      <td>38</td>\n    </tr>\n    <tr>\n      <th>0</th>\n      <td>0.937823</td>\n      <td>0.284427</td>\n      <td>0.193049</td>\n      <td>0.575878</td>\n      <td>1.0</td>\n      <td>22.0</td>\n      <td>283.0</td>\n      <td>0.02</td>\n      <td>0.00</td>\n      <td>0.02</td>\n      <td>...</td>\n      <td>0.4</td>\n      <td>0.1</td>\n      <td>0.0</td>\n      <td>-10.267540</td>\n      <td>-12.116251</td>\n      <td>1.507048</td>\n      <td>1.341739</td>\n      <td>1.368191</td>\n      <td>exp-20210305_sgs3-Gal4_UAS-Psc_Pc-Red_Ha-Green...</td>\n      <td>39</td>\n    </tr>\n    <tr>\n      <th>0</th>\n      <td>0.600197</td>\n      <td>0.137475</td>\n      <td>0.696986</td>\n      <td>0.186556</td>\n      <td>1.0</td>\n      <td>0.0</td>\n      <td>0.0</td>\n      <td>0.02</td>\n      <td>0.01</td>\n      <td>0.02</td>\n      <td>...</td>\n      <td>0.4</td>\n      <td>0.1</td>\n      <td>0.0</td>\n      <td>0.000000</td>\n      <td>0.000000</td>\n      <td>0.862746</td>\n      <td>0.862746</td>\n      <td>0.862746</td>\n      <td>exp-20210305_sgs3-Gal4_UAS-neg_Pc-Red_Ha-Green...</td>\n      <td>40</td>\n    </tr>\n    <tr>\n      <th>0</th>\n      <td>0.940885</td>\n      <td>0.662307</td>\n      <td>0.527255</td>\n      <td>0.926744</td>\n      <td>1.0</td>\n      <td>14.0</td>\n      <td>225.0</td>\n      <td>0.01</td>\n      <td>0.01</td>\n      <td>0.03</td>\n      <td>...</td>\n      <td>0.4</td>\n      <td>0.1</td>\n      <td>0.0</td>\n      <td>-10.612316</td>\n      <td>-11.857965</td>\n      <td>1.430076</td>\n      <td>1.265770</td>\n      <td>1.113389</td>\n      <td>exp-20210305_sgs3-Gal4_UAS-Psc_Pc-Red_Ha-Green...</td>\n      <td>41</td>\n    </tr>\n    <tr>\n      <th>0</th>\n      <td>0.693176</td>\n      <td>0.193549</td>\n      <td>0.801309</td>\n      <td>0.178604</td>\n      <td>1.0</td>\n      <td>0.0</td>\n      <td>0.0</td>\n      <td>0.00</td>\n      <td>0.00</td>\n      <td>0.03</td>\n      <td>...</td>\n      <td>0.4</td>\n      <td>0.1</td>\n      <td>0.0</td>\n      <td>0.000000</td>\n      <td>0.000000</td>\n      <td>0.889652</td>\n      <td>0.889652</td>\n      <td>0.889652</td>\n      <td>exp-20210305_sgs3-Gal4_UAS-neg_Pc-Red_Ha-Green...</td>\n      <td>42</td>\n    </tr>\n  </tbody>\n</table>\n<p>5 rows × 50 columns</p>\n</div>"
     },
     "execution_count": 21,
     "metadata": {},
     "output_type": "execute_result"
    }
   ],
   "source": [
    "image_df.head()"
   ]
  },
  {
   "cell_type": "markdown",
   "metadata": {},
   "source": [
    "### Push Results back to OMERO"
   ]
  },
  {
   "cell_type": "code",
   "execution_count": 16,
   "metadata": {},
   "outputs": [
    {
     "name": "stdout",
     "output_type": "stream",
     "text": [
      "\n",
      "Creating an OriginalFile and FileAnnotation\n",
      "Attaching FileAnnotation to Dataset:  File ID: 98408 , Image.csv Size: 16787\n"
     ]
    },
    {
     "data": {
      "text/plain": [
       "<FileAnnotationWrapper id=98408>"
      ]
     },
     "execution_count": 16,
     "metadata": {},
     "output_type": "execute_result"
    }
   ],
   "source": [
    "file_to_upload = str(os.path.join(new_output_directory, 'Image.csv'))\n",
    "image_df.to_csv(file_to_upload, index=False)\n",
    "\n",
    "# create the original file and file annotation (uploads the file etc.)\n",
    "namespace = \"cellprofiler.analysis\"\n",
    "print(\"\\nCreating an OriginalFile and FileAnnotation\")\n",
    "file_ann = conn.createFileAnnfromLocalFile(file_to_upload, mimetype=\"text/plain\", ns=namespace, desc=None)\n",
    "print(\"Attaching FileAnnotation to Dataset: \", \"File ID:\", file_ann.getId(),\n",
    "    \",\", file_ann.getFile().getName(), \"Size:\", file_ann.getFile().getSize())\n",
    "dataset.linkAnnotation(file_ann)"
   ]
  },
  {
   "cell_type": "markdown",
   "metadata": {},
   "source": [
    "#### Close the connection to the OMERO server"
   ]
  },
  {
   "cell_type": "code",
   "execution_count": 8,
   "metadata": {
    "pycharm": {
     "name": "#%%\n"
    }
   },
   "outputs": [],
   "source": [
    "conn.close()"
   ]
  }
 ],
 "metadata": {
  "kernelspec": {
   "display_name": "Python 3 (ipykernel)",
   "language": "python",
   "name": "python3"
  },
  "language_info": {
   "codemirror_mode": {
    "name": "ipython",
    "version": 3
   },
   "file_extension": ".py",
   "mimetype": "text/x-python",
   "name": "python",
   "nbconvert_exporter": "python",
   "pygments_lexer": "ipython3",
   "version": "3.8.12"
  }
 },
 "nbformat": 4,
 "nbformat_minor": 2
}